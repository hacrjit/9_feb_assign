{
 "cells": [
  {
   "cell_type": "markdown",
   "id": "44db9731",
   "metadata": {},
   "source": [
    "## Question No. 1"
   ]
  },
  {
   "cell_type": "code",
   "execution_count": 72,
   "id": "a95910f1",
   "metadata": {},
   "outputs": [],
   "source": [
    "class vehicle:\n",
    "    def __init__(self,name_of_vehicle, max_speed,average_of_vehicle):\n",
    "        self.name_of_vehicle = name_of_vehicle\n",
    "        self.max_speed = max_speed\n",
    "        self.average_of_vehicle = average_of_vehicle"
   ]
  },
  {
   "cell_type": "markdown",
   "id": "49dae90f",
   "metadata": {},
   "source": [
    "## Question No. 2"
   ]
  },
  {
   "cell_type": "code",
   "execution_count": 73,
   "id": "decc5554",
   "metadata": {},
   "outputs": [],
   "source": [
    "class car(vehicle):\n",
    "    def __init__(self, name_of_vehicle, max_speed, average_of_vehicle):\n",
    "        super().__init__(name_of_vehicle, max_speed, average_of_vehicle)\n",
    "\n",
    "    def seating_capacity(self,capacity):\n",
    "        return self.name_of_vehicle,capacity"
   ]
  },
  {
   "cell_type": "markdown",
   "id": "828bee47",
   "metadata": {},
   "source": [
    "## Question No. 3"
   ]
  },
  {
   "cell_type": "markdown",
   "id": "d3ac9285",
   "metadata": {},
   "source": [
    "Multiple inheritance is a property of object oriented programming in which a class inherit the property of two or more class. i.e a child class may have more than one parent class."
   ]
  },
  {
   "cell_type": "code",
   "execution_count": 74,
   "id": "a0cc3784",
   "metadata": {},
   "outputs": [],
   "source": [
    "class parent1:\n",
    "    def __init__(self):\n",
    "        print(\"i am parent 1\")\n",
    "        \n",
    "class parent2:\n",
    "    def __init__(self):\n",
    "        print(\"i am parent 2\")\n",
    "        \n",
    "class parent3:\n",
    "    def __init__(self):\n",
    "        print(\"i am parent 3\")\n",
    "        \n",
    "        \n",
    "class child(parent1,parent2,parent3):\n",
    "    pass"
   ]
  },
  {
   "cell_type": "markdown",
   "id": "a729f94d",
   "metadata": {},
   "source": [
    "## Question No. 4"
   ]
  },
  {
   "cell_type": "markdown",
   "id": "52056307",
   "metadata": {},
   "source": [
    "Getter and setter methords are used to provide controlled acces to class attribute and properties."
   ]
  },
  {
   "cell_type": "code",
   "execution_count": 75,
   "id": "5d53d81a",
   "metadata": {},
   "outputs": [],
   "source": [
    "class account:\n",
    "    def __init__(self,account_no):\n",
    "        self._account_no = account_no\n",
    "        \n",
    "    def get_account_no(self):\n",
    "        return self._account_no\n",
    "    \n",
    "    def set_account(self,new_account_no):\n",
    "        self._account_no = new_account_no"
   ]
  },
  {
   "cell_type": "markdown",
   "id": "8ad6c4bd",
   "metadata": {},
   "source": [
    "## Question No. 5"
   ]
  },
  {
   "cell_type": "markdown",
   "id": "ce7f1b01",
   "metadata": {},
   "source": [
    "Methord overriding is a feature of object oriented programming in which child class provides different behaviour of a methord that is already available in parent class."
   ]
  },
  {
   "cell_type": "code",
   "execution_count": 76,
   "id": "71e66ff9",
   "metadata": {},
   "outputs": [],
   "source": [
    "class Animal:\n",
    "    def sound(self):\n",
    "        print(\"The animal makes a sound.\")\n",
    "\n",
    "\n",
    "class Cat(Animal):\n",
    "    def sound(self):\n",
    "        print(\"Meow!\")\n",
    "\n",
    "\n",
    "class Dog(Animal):\n",
    "    def sound(self):\n",
    "        print(\"Woof!\")"
   ]
  }
 ],
 "metadata": {
  "kernelspec": {
   "display_name": "Python 3 (ipykernel)",
   "language": "python",
   "name": "python3"
  },
  "language_info": {
   "codemirror_mode": {
    "name": "ipython",
    "version": 3
   },
   "file_extension": ".py",
   "mimetype": "text/x-python",
   "name": "python",
   "nbconvert_exporter": "python",
   "pygments_lexer": "ipython3",
   "version": "3.9.7"
  }
 },
 "nbformat": 4,
 "nbformat_minor": 5
}
